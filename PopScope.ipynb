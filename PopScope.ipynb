{
 "cells": [
  {
   "cell_type": "markdown",
   "id": "a8123542",
   "metadata": {},
   "source": [
    "\n",
    "# PopScope: A Global Lens on Population Trends\n",
    "\n",
    "*Image source: Scientific American*\n",
    "[Global Population Growth Is Slowing Down. Here's One Reason Why](https://www.scientificamerican.com/article/global-population-growth-is-slowing-down-heres-one-reason-why/)  \n",
    "\n",
    "\n",
    "---\n",
    "<img src=\"https://studyfinds.org/wp-content/uploads/2023/03/World-population-surrounding-the-Earth-scaled.jpeg\" alt=\"Celebrity Event Photo\" width=\"600\"/>\n",
    "\n",
    "## Introduction\n",
    "\n",
    "Population is more than just a number — it’s a reflection of how humanity grows, migrates, and evolves across generations. From bustling cities to remote villages, every data point in this notebook represents lives lived, communities formed, and futures shaped.\n",
    "\n",
    "In this notebook, we explore global population trends using World Bank data. We aim to understand which regions are expanding rapidly, which are stabilizing, and what these patterns reveal about our shared trajectory. By grouping countries by region and income level, we uncover the forces behind demographic shifts and visualize how the world has changed — and continues to change — over time.\n",
    "\n",
    "This is not just an exercise in data analysis. It’s a journey through the human story, told through numbers, graphs, and insights.\n",
    "\n",
    "---\n"
   ]
  },
  {
   "cell_type": "markdown",
   "id": "4b3c92fd",
   "metadata": {},
   "source": [
    "# PopScope: A Global Lens on Population Trends\n",
    "\n",
    "This notebook explores global population growth patterns using World Bank data. We investigate regional growth, income-based comparisons, and emerging demographic trends from 1960 to 2022.\n",
    "\n",
    "**Data Files Used:**\n",
    "- `API_SP.POP.TOTL_DS.csv` — Total population data\n",
    "- `Meta_country.csv` — Metadata on country regions and income groups\n"
   ]
  },
  {
   "cell_type": "code",
   "execution_count": null,
   "id": "789ed11c",
   "metadata": {},
   "outputs": [],
   "source": [
    "# all import Statements \n",
    "import pandas as pd\n",
    "import matplotlib.pyplot as plt\n",
    "import seaborn as sns"
   ]
  },
  {
   "cell_type": "code",
   "execution_count": 2,
   "id": "a4097c25",
   "metadata": {},
   "outputs": [
    {
     "data": {
      "application/javascript": "\n        if (window._pyforest_update_imports_cell) { window._pyforest_update_imports_cell('import pandas as pd'); }\n    ",
      "text/plain": [
       "<IPython.core.display.Javascript object>"
      ]
     },
     "metadata": {},
     "output_type": "display_data"
    },
    {
     "data": {
      "application/javascript": "\n        if (window._pyforest_update_imports_cell) { window._pyforest_update_imports_cell('import pandas as pd'); }\n    ",
      "text/plain": [
       "<IPython.core.display.Javascript object>"
      ]
     },
     "metadata": {},
     "output_type": "display_data"
    }
   ],
   "source": [
    "#Loading the Data's\n",
    "# Load population data and skip metadata rows\n",
    "pop_df = pd.read_csv(\"API_SP.POP.TOTL_DS.csv\", skiprows=4)\n",
    "\n",
    "# Load country metadata\n",
    "meta_country = pd.read_csv(\"Meta_country.csv\")\n",
    "\n",
    "# Merge datasets on 'Country Code'\n",
    "merged_df = pop_df.merge(meta_country, on=\"Country Code\")"
   ]
  },
  {
   "cell_type": "code",
   "execution_count": 3,
   "id": "ea80cffd",
   "metadata": {},
   "outputs": [
    {
     "data": {
      "text/html": [
       "<div>\n",
       "<style scoped>\n",
       "    .dataframe tbody tr th:only-of-type {\n",
       "        vertical-align: middle;\n",
       "    }\n",
       "\n",
       "    .dataframe tbody tr th {\n",
       "        vertical-align: top;\n",
       "    }\n",
       "\n",
       "    .dataframe thead th {\n",
       "        text-align: right;\n",
       "    }\n",
       "</style>\n",
       "<table border=\"1\" class=\"dataframe\">\n",
       "  <thead>\n",
       "    <tr style=\"text-align: right;\">\n",
       "      <th></th>\n",
       "      <th>Country Name</th>\n",
       "      <th>Country Code</th>\n",
       "      <th>Indicator Name</th>\n",
       "      <th>Indicator Code</th>\n",
       "      <th>1960</th>\n",
       "      <th>1961</th>\n",
       "      <th>1962</th>\n",
       "      <th>1963</th>\n",
       "      <th>1964</th>\n",
       "      <th>1965</th>\n",
       "      <th>...</th>\n",
       "      <th>2021</th>\n",
       "      <th>2022</th>\n",
       "      <th>2023</th>\n",
       "      <th>2024</th>\n",
       "      <th>Unnamed: 69</th>\n",
       "      <th>Region</th>\n",
       "      <th>IncomeGroup</th>\n",
       "      <th>SpecialNotes</th>\n",
       "      <th>TableName</th>\n",
       "      <th>Unnamed: 5</th>\n",
       "    </tr>\n",
       "  </thead>\n",
       "  <tbody>\n",
       "    <tr>\n",
       "      <th>0</th>\n",
       "      <td>Aruba</td>\n",
       "      <td>ABW</td>\n",
       "      <td>Population, total</td>\n",
       "      <td>SP.POP.TOTL</td>\n",
       "      <td>54922.0</td>\n",
       "      <td>55578.0</td>\n",
       "      <td>56320.0</td>\n",
       "      <td>57002.0</td>\n",
       "      <td>57619.0</td>\n",
       "      <td>58190.0</td>\n",
       "      <td>...</td>\n",
       "      <td>107700.0</td>\n",
       "      <td>107310.0</td>\n",
       "      <td>107359.0</td>\n",
       "      <td>107624.0</td>\n",
       "      <td>NaN</td>\n",
       "      <td>Latin America &amp; Caribbean</td>\n",
       "      <td>High income</td>\n",
       "      <td>NaN</td>\n",
       "      <td>Aruba</td>\n",
       "      <td>NaN</td>\n",
       "    </tr>\n",
       "    <tr>\n",
       "      <th>1</th>\n",
       "      <td>Africa Eastern and Southern</td>\n",
       "      <td>AFE</td>\n",
       "      <td>Population, total</td>\n",
       "      <td>SP.POP.TOTL</td>\n",
       "      <td>130075728.0</td>\n",
       "      <td>133534923.0</td>\n",
       "      <td>137171659.0</td>\n",
       "      <td>140945536.0</td>\n",
       "      <td>144904094.0</td>\n",
       "      <td>149033472.0</td>\n",
       "      <td>...</td>\n",
       "      <td>713090928.0</td>\n",
       "      <td>731821393.0</td>\n",
       "      <td>750503764.0</td>\n",
       "      <td>769294618.0</td>\n",
       "      <td>NaN</td>\n",
       "      <td>NaN</td>\n",
       "      <td>NaN</td>\n",
       "      <td>26 countries, stretching from the Red Sea in t...</td>\n",
       "      <td>Africa Eastern and Southern</td>\n",
       "      <td>NaN</td>\n",
       "    </tr>\n",
       "    <tr>\n",
       "      <th>2</th>\n",
       "      <td>Afghanistan</td>\n",
       "      <td>AFG</td>\n",
       "      <td>Population, total</td>\n",
       "      <td>SP.POP.TOTL</td>\n",
       "      <td>9035043.0</td>\n",
       "      <td>9214083.0</td>\n",
       "      <td>9404406.0</td>\n",
       "      <td>9604487.0</td>\n",
       "      <td>9814318.0</td>\n",
       "      <td>10036008.0</td>\n",
       "      <td>...</td>\n",
       "      <td>40000412.0</td>\n",
       "      <td>40578842.0</td>\n",
       "      <td>41454761.0</td>\n",
       "      <td>42647492.0</td>\n",
       "      <td>NaN</td>\n",
       "      <td>Middle East, North Africa, Afghanistan &amp; Pakistan</td>\n",
       "      <td>Low income</td>\n",
       "      <td>The reporting period for national accounts dat...</td>\n",
       "      <td>Afghanistan</td>\n",
       "      <td>NaN</td>\n",
       "    </tr>\n",
       "    <tr>\n",
       "      <th>3</th>\n",
       "      <td>Africa Western and Central</td>\n",
       "      <td>AFW</td>\n",
       "      <td>Population, total</td>\n",
       "      <td>SP.POP.TOTL</td>\n",
       "      <td>97630925.0</td>\n",
       "      <td>99706674.0</td>\n",
       "      <td>101854756.0</td>\n",
       "      <td>104089175.0</td>\n",
       "      <td>106388440.0</td>\n",
       "      <td>108772632.0</td>\n",
       "      <td>...</td>\n",
       "      <td>485920997.0</td>\n",
       "      <td>497387180.0</td>\n",
       "      <td>509398589.0</td>\n",
       "      <td>521764076.0</td>\n",
       "      <td>NaN</td>\n",
       "      <td>NaN</td>\n",
       "      <td>NaN</td>\n",
       "      <td>22 countries, stretching from the westernmost ...</td>\n",
       "      <td>Africa Western and Central</td>\n",
       "      <td>NaN</td>\n",
       "    </tr>\n",
       "    <tr>\n",
       "      <th>4</th>\n",
       "      <td>Angola</td>\n",
       "      <td>AGO</td>\n",
       "      <td>Population, total</td>\n",
       "      <td>SP.POP.TOTL</td>\n",
       "      <td>5231654.0</td>\n",
       "      <td>5301583.0</td>\n",
       "      <td>5354310.0</td>\n",
       "      <td>5408320.0</td>\n",
       "      <td>5464187.0</td>\n",
       "      <td>5521981.0</td>\n",
       "      <td>...</td>\n",
       "      <td>34532429.0</td>\n",
       "      <td>35635029.0</td>\n",
       "      <td>36749906.0</td>\n",
       "      <td>37885849.0</td>\n",
       "      <td>NaN</td>\n",
       "      <td>Sub-Saharan Africa</td>\n",
       "      <td>Lower middle income</td>\n",
       "      <td>The World Bank systematically assesses the app...</td>\n",
       "      <td>Angola</td>\n",
       "      <td>NaN</td>\n",
       "    </tr>\n",
       "  </tbody>\n",
       "</table>\n",
       "<p>5 rows × 75 columns</p>\n",
       "</div>"
      ],
      "text/plain": [
       "                  Country Name Country Code     Indicator Name Indicator Code  \\\n",
       "0                        Aruba          ABW  Population, total    SP.POP.TOTL   \n",
       "1  Africa Eastern and Southern          AFE  Population, total    SP.POP.TOTL   \n",
       "2                  Afghanistan          AFG  Population, total    SP.POP.TOTL   \n",
       "3   Africa Western and Central          AFW  Population, total    SP.POP.TOTL   \n",
       "4                       Angola          AGO  Population, total    SP.POP.TOTL   \n",
       "\n",
       "          1960         1961         1962         1963         1964  \\\n",
       "0      54922.0      55578.0      56320.0      57002.0      57619.0   \n",
       "1  130075728.0  133534923.0  137171659.0  140945536.0  144904094.0   \n",
       "2    9035043.0    9214083.0    9404406.0    9604487.0    9814318.0   \n",
       "3   97630925.0   99706674.0  101854756.0  104089175.0  106388440.0   \n",
       "4    5231654.0    5301583.0    5354310.0    5408320.0    5464187.0   \n",
       "\n",
       "          1965  ...         2021         2022         2023         2024  \\\n",
       "0      58190.0  ...     107700.0     107310.0     107359.0     107624.0   \n",
       "1  149033472.0  ...  713090928.0  731821393.0  750503764.0  769294618.0   \n",
       "2   10036008.0  ...   40000412.0   40578842.0   41454761.0   42647492.0   \n",
       "3  108772632.0  ...  485920997.0  497387180.0  509398589.0  521764076.0   \n",
       "4    5521981.0  ...   34532429.0   35635029.0   36749906.0   37885849.0   \n",
       "\n",
       "   Unnamed: 69                                             Region  \\\n",
       "0          NaN                          Latin America & Caribbean   \n",
       "1          NaN                                                NaN   \n",
       "2          NaN  Middle East, North Africa, Afghanistan & Pakistan   \n",
       "3          NaN                                                NaN   \n",
       "4          NaN                                 Sub-Saharan Africa   \n",
       "\n",
       "           IncomeGroup                                       SpecialNotes  \\\n",
       "0          High income                                                NaN   \n",
       "1                  NaN  26 countries, stretching from the Red Sea in t...   \n",
       "2           Low income  The reporting period for national accounts dat...   \n",
       "3                  NaN  22 countries, stretching from the westernmost ...   \n",
       "4  Lower middle income  The World Bank systematically assesses the app...   \n",
       "\n",
       "                     TableName  Unnamed: 5  \n",
       "0                        Aruba         NaN  \n",
       "1  Africa Eastern and Southern         NaN  \n",
       "2                  Afghanistan         NaN  \n",
       "3   Africa Western and Central         NaN  \n",
       "4                       Angola         NaN  \n",
       "\n",
       "[5 rows x 75 columns]"
      ]
     },
     "execution_count": 3,
     "metadata": {},
     "output_type": "execute_result"
    }
   ],
   "source": [
    "merged_df.head()"
   ]
  },
  {
   "cell_type": "code",
   "execution_count": 4,
   "id": "d9dbb799",
   "metadata": {},
   "outputs": [
    {
     "name": "stdout",
     "output_type": "stream",
     "text": [
      "<class 'pandas.core.frame.DataFrame'>\n",
      "RangeIndex: 265 entries, 0 to 264\n",
      "Data columns (total 75 columns):\n",
      " #   Column          Non-Null Count  Dtype  \n",
      "---  ------          --------------  -----  \n",
      " 0   Country Name    265 non-null    object \n",
      " 1   Country Code    265 non-null    object \n",
      " 2   Indicator Name  265 non-null    object \n",
      " 3   Indicator Code  265 non-null    object \n",
      " 4   1960            264 non-null    float64\n",
      " 5   1961            264 non-null    float64\n",
      " 6   1962            264 non-null    float64\n",
      " 7   1963            264 non-null    float64\n",
      " 8   1964            264 non-null    float64\n",
      " 9   1965            264 non-null    float64\n",
      " 10  1966            264 non-null    float64\n",
      " 11  1967            264 non-null    float64\n",
      " 12  1968            264 non-null    float64\n",
      " 13  1969            264 non-null    float64\n",
      " 14  1970            264 non-null    float64\n",
      " 15  1971            264 non-null    float64\n",
      " 16  1972            264 non-null    float64\n",
      " 17  1973            264 non-null    float64\n",
      " 18  1974            264 non-null    float64\n",
      " 19  1975            264 non-null    float64\n",
      " 20  1976            264 non-null    float64\n",
      " 21  1977            264 non-null    float64\n",
      " 22  1978            264 non-null    float64\n",
      " 23  1979            264 non-null    float64\n",
      " 24  1980            264 non-null    float64\n",
      " 25  1981            264 non-null    float64\n",
      " 26  1982            264 non-null    float64\n",
      " 27  1983            264 non-null    float64\n",
      " 28  1984            264 non-null    float64\n",
      " 29  1985            264 non-null    float64\n",
      " 30  1986            264 non-null    float64\n",
      " 31  1987            264 non-null    float64\n",
      " 32  1988            264 non-null    float64\n",
      " 33  1989            264 non-null    float64\n",
      " 34  1990            265 non-null    float64\n",
      " 35  1991            265 non-null    float64\n",
      " 36  1992            265 non-null    float64\n",
      " 37  1993            265 non-null    float64\n",
      " 38  1994            265 non-null    float64\n",
      " 39  1995            265 non-null    float64\n",
      " 40  1996            265 non-null    float64\n",
      " 41  1997            265 non-null    float64\n",
      " 42  1998            265 non-null    float64\n",
      " 43  1999            265 non-null    float64\n",
      " 44  2000            265 non-null    float64\n",
      " 45  2001            265 non-null    float64\n",
      " 46  2002            265 non-null    float64\n",
      " 47  2003            265 non-null    float64\n",
      " 48  2004            265 non-null    float64\n",
      " 49  2005            265 non-null    float64\n",
      " 50  2006            265 non-null    float64\n",
      " 51  2007            265 non-null    float64\n",
      " 52  2008            265 non-null    float64\n",
      " 53  2009            265 non-null    float64\n",
      " 54  2010            265 non-null    float64\n",
      " 55  2011            265 non-null    float64\n",
      " 56  2012            265 non-null    float64\n",
      " 57  2013            265 non-null    float64\n",
      " 58  2014            265 non-null    float64\n",
      " 59  2015            265 non-null    float64\n",
      " 60  2016            265 non-null    float64\n",
      " 61  2017            265 non-null    float64\n",
      " 62  2018            265 non-null    float64\n",
      " 63  2019            265 non-null    float64\n",
      " 64  2020            265 non-null    float64\n",
      " 65  2021            265 non-null    float64\n",
      " 66  2022            265 non-null    float64\n",
      " 67  2023            265 non-null    float64\n",
      " 68  2024            265 non-null    float64\n",
      " 69  Unnamed: 69     0 non-null      float64\n",
      " 70  Region          217 non-null    object \n",
      " 71  IncomeGroup     215 non-null    object \n",
      " 72  SpecialNotes    129 non-null    object \n",
      " 73  TableName       265 non-null    object \n",
      " 74  Unnamed: 5      0 non-null      float64\n",
      "dtypes: float64(67), object(8)\n",
      "memory usage: 155.4+ KB\n"
     ]
    }
   ],
   "source": [
    "merged_df.info()"
   ]
  },
  {
   "cell_type": "code",
   "execution_count": 5,
   "id": "bd6fd39a",
   "metadata": {},
   "outputs": [
    {
     "data": {
      "text/html": [
       "<div>\n",
       "<style scoped>\n",
       "    .dataframe tbody tr th:only-of-type {\n",
       "        vertical-align: middle;\n",
       "    }\n",
       "\n",
       "    .dataframe tbody tr th {\n",
       "        vertical-align: top;\n",
       "    }\n",
       "\n",
       "    .dataframe thead th {\n",
       "        text-align: right;\n",
       "    }\n",
       "</style>\n",
       "<table border=\"1\" class=\"dataframe\">\n",
       "  <thead>\n",
       "    <tr style=\"text-align: right;\">\n",
       "      <th></th>\n",
       "      <th>1960</th>\n",
       "      <th>1961</th>\n",
       "      <th>1962</th>\n",
       "      <th>1963</th>\n",
       "      <th>1964</th>\n",
       "      <th>1965</th>\n",
       "      <th>1966</th>\n",
       "      <th>1967</th>\n",
       "      <th>1968</th>\n",
       "      <th>1969</th>\n",
       "      <th>...</th>\n",
       "      <th>2017</th>\n",
       "      <th>2018</th>\n",
       "      <th>2019</th>\n",
       "      <th>2020</th>\n",
       "      <th>2021</th>\n",
       "      <th>2022</th>\n",
       "      <th>2023</th>\n",
       "      <th>2024</th>\n",
       "      <th>Unnamed: 69</th>\n",
       "      <th>Unnamed: 5</th>\n",
       "    </tr>\n",
       "  </thead>\n",
       "  <tbody>\n",
       "    <tr>\n",
       "      <th>count</th>\n",
       "      <td>2.640000e+02</td>\n",
       "      <td>2.640000e+02</td>\n",
       "      <td>2.640000e+02</td>\n",
       "      <td>2.640000e+02</td>\n",
       "      <td>2.640000e+02</td>\n",
       "      <td>2.640000e+02</td>\n",
       "      <td>2.640000e+02</td>\n",
       "      <td>2.640000e+02</td>\n",
       "      <td>2.640000e+02</td>\n",
       "      <td>2.640000e+02</td>\n",
       "      <td>...</td>\n",
       "      <td>2.650000e+02</td>\n",
       "      <td>2.650000e+02</td>\n",
       "      <td>2.650000e+02</td>\n",
       "      <td>2.650000e+02</td>\n",
       "      <td>2.650000e+02</td>\n",
       "      <td>2.650000e+02</td>\n",
       "      <td>2.650000e+02</td>\n",
       "      <td>2.650000e+02</td>\n",
       "      <td>0.0</td>\n",
       "      <td>0.0</td>\n",
       "    </tr>\n",
       "    <tr>\n",
       "      <th>mean</th>\n",
       "      <td>1.154023e+08</td>\n",
       "      <td>1.170070e+08</td>\n",
       "      <td>1.191678e+08</td>\n",
       "      <td>1.218381e+08</td>\n",
       "      <td>1.245322e+08</td>\n",
       "      <td>1.272581e+08</td>\n",
       "      <td>1.301037e+08</td>\n",
       "      <td>1.329570e+08</td>\n",
       "      <td>1.358851e+08</td>\n",
       "      <td>1.389115e+08</td>\n",
       "      <td>...</td>\n",
       "      <td>3.078574e+08</td>\n",
       "      <td>3.116049e+08</td>\n",
       "      <td>3.152801e+08</td>\n",
       "      <td>3.187967e+08</td>\n",
       "      <td>3.219557e+08</td>\n",
       "      <td>3.251253e+08</td>\n",
       "      <td>3.284356e+08</td>\n",
       "      <td>3.318869e+08</td>\n",
       "      <td>NaN</td>\n",
       "      <td>NaN</td>\n",
       "    </tr>\n",
       "    <tr>\n",
       "      <th>std</th>\n",
       "      <td>3.616526e+08</td>\n",
       "      <td>3.661347e+08</td>\n",
       "      <td>3.727681e+08</td>\n",
       "      <td>3.813687e+08</td>\n",
       "      <td>3.900162e+08</td>\n",
       "      <td>3.987697e+08</td>\n",
       "      <td>4.079989e+08</td>\n",
       "      <td>4.172145e+08</td>\n",
       "      <td>4.266937e+08</td>\n",
       "      <td>4.365313e+08</td>\n",
       "      <td>...</td>\n",
       "      <td>9.557617e+08</td>\n",
       "      <td>9.664403e+08</td>\n",
       "      <td>9.768047e+08</td>\n",
       "      <td>9.866025e+08</td>\n",
       "      <td>9.952966e+08</td>\n",
       "      <td>1.003734e+09</td>\n",
       "      <td>1.012519e+09</td>\n",
       "      <td>1.021734e+09</td>\n",
       "      <td>NaN</td>\n",
       "      <td>NaN</td>\n",
       "    </tr>\n",
       "    <tr>\n",
       "      <th>min</th>\n",
       "      <td>2.715000e+03</td>\n",
       "      <td>2.970000e+03</td>\n",
       "      <td>3.264000e+03</td>\n",
       "      <td>3.584000e+03</td>\n",
       "      <td>3.922000e+03</td>\n",
       "      <td>4.282000e+03</td>\n",
       "      <td>4.664000e+03</td>\n",
       "      <td>5.071000e+03</td>\n",
       "      <td>5.500000e+03</td>\n",
       "      <td>5.631000e+03</td>\n",
       "      <td>...</td>\n",
       "      <td>1.086900e+04</td>\n",
       "      <td>1.075100e+04</td>\n",
       "      <td>1.058100e+04</td>\n",
       "      <td>1.039900e+04</td>\n",
       "      <td>1.019400e+04</td>\n",
       "      <td>9.992000e+03</td>\n",
       "      <td>9.816000e+03</td>\n",
       "      <td>9.646000e+03</td>\n",
       "      <td>NaN</td>\n",
       "      <td>NaN</td>\n",
       "    </tr>\n",
       "    <tr>\n",
       "      <th>25%</th>\n",
       "      <td>5.152028e+05</td>\n",
       "      <td>5.255230e+05</td>\n",
       "      <td>5.363018e+05</td>\n",
       "      <td>5.475875e+05</td>\n",
       "      <td>5.593638e+05</td>\n",
       "      <td>5.675750e+05</td>\n",
       "      <td>5.711695e+05</td>\n",
       "      <td>5.779525e+05</td>\n",
       "      <td>5.825170e+05</td>\n",
       "      <td>5.861185e+05</td>\n",
       "      <td>...</td>\n",
       "      <td>1.791019e+06</td>\n",
       "      <td>1.797086e+06</td>\n",
       "      <td>1.788891e+06</td>\n",
       "      <td>1.790151e+06</td>\n",
       "      <td>1.786079e+06</td>\n",
       "      <td>1.803545e+06</td>\n",
       "      <td>1.827816e+06</td>\n",
       "      <td>1.792179e+06</td>\n",
       "      <td>NaN</td>\n",
       "      <td>NaN</td>\n",
       "    </tr>\n",
       "    <tr>\n",
       "      <th>50%</th>\n",
       "      <td>3.659633e+06</td>\n",
       "      <td>3.747132e+06</td>\n",
       "      <td>3.831900e+06</td>\n",
       "      <td>3.919710e+06</td>\n",
       "      <td>4.010150e+06</td>\n",
       "      <td>4.102976e+06</td>\n",
       "      <td>4.198738e+06</td>\n",
       "      <td>4.297792e+06</td>\n",
       "      <td>4.396290e+06</td>\n",
       "      <td>4.503420e+06</td>\n",
       "      <td>...</td>\n",
       "      <td>1.025915e+07</td>\n",
       "      <td>1.028382e+07</td>\n",
       "      <td>1.042338e+07</td>\n",
       "      <td>1.069786e+07</td>\n",
       "      <td>1.050577e+07</td>\n",
       "      <td>1.048694e+07</td>\n",
       "      <td>1.064485e+07</td>\n",
       "      <td>1.087698e+07</td>\n",
       "      <td>NaN</td>\n",
       "      <td>NaN</td>\n",
       "    </tr>\n",
       "    <tr>\n",
       "      <th>75%</th>\n",
       "      <td>2.686293e+07</td>\n",
       "      <td>2.761326e+07</td>\n",
       "      <td>2.837302e+07</td>\n",
       "      <td>2.915448e+07</td>\n",
       "      <td>2.995223e+07</td>\n",
       "      <td>3.075921e+07</td>\n",
       "      <td>3.147516e+07</td>\n",
       "      <td>3.203946e+07</td>\n",
       "      <td>3.247057e+07</td>\n",
       "      <td>3.277149e+07</td>\n",
       "      <td>...</td>\n",
       "      <td>6.000225e+07</td>\n",
       "      <td>6.014866e+07</td>\n",
       "      <td>5.972908e+07</td>\n",
       "      <td>6.097280e+07</td>\n",
       "      <td>6.283041e+07</td>\n",
       "      <td>6.471182e+07</td>\n",
       "      <td>6.661761e+07</td>\n",
       "      <td>6.851670e+07</td>\n",
       "      <td>NaN</td>\n",
       "      <td>NaN</td>\n",
       "    </tr>\n",
       "    <tr>\n",
       "      <th>max</th>\n",
       "      <td>3.021513e+09</td>\n",
       "      <td>3.062768e+09</td>\n",
       "      <td>3.117372e+09</td>\n",
       "      <td>3.184063e+09</td>\n",
       "      <td>3.251253e+09</td>\n",
       "      <td>3.318998e+09</td>\n",
       "      <td>3.389087e+09</td>\n",
       "      <td>3.459015e+09</td>\n",
       "      <td>3.530704e+09</td>\n",
       "      <td>3.604816e+09</td>\n",
       "      <td>...</td>\n",
       "      <td>7.614749e+09</td>\n",
       "      <td>7.697492e+09</td>\n",
       "      <td>7.778304e+09</td>\n",
       "      <td>7.855075e+09</td>\n",
       "      <td>7.920862e+09</td>\n",
       "      <td>7.990400e+09</td>\n",
       "      <td>8.064977e+09</td>\n",
       "      <td>8.142056e+09</td>\n",
       "      <td>NaN</td>\n",
       "      <td>NaN</td>\n",
       "    </tr>\n",
       "  </tbody>\n",
       "</table>\n",
       "<p>8 rows × 67 columns</p>\n",
       "</div>"
      ],
      "text/plain": [
       "               1960          1961          1962          1963          1964  \\\n",
       "count  2.640000e+02  2.640000e+02  2.640000e+02  2.640000e+02  2.640000e+02   \n",
       "mean   1.154023e+08  1.170070e+08  1.191678e+08  1.218381e+08  1.245322e+08   \n",
       "std    3.616526e+08  3.661347e+08  3.727681e+08  3.813687e+08  3.900162e+08   \n",
       "min    2.715000e+03  2.970000e+03  3.264000e+03  3.584000e+03  3.922000e+03   \n",
       "25%    5.152028e+05  5.255230e+05  5.363018e+05  5.475875e+05  5.593638e+05   \n",
       "50%    3.659633e+06  3.747132e+06  3.831900e+06  3.919710e+06  4.010150e+06   \n",
       "75%    2.686293e+07  2.761326e+07  2.837302e+07  2.915448e+07  2.995223e+07   \n",
       "max    3.021513e+09  3.062768e+09  3.117372e+09  3.184063e+09  3.251253e+09   \n",
       "\n",
       "               1965          1966          1967          1968          1969  \\\n",
       "count  2.640000e+02  2.640000e+02  2.640000e+02  2.640000e+02  2.640000e+02   \n",
       "mean   1.272581e+08  1.301037e+08  1.329570e+08  1.358851e+08  1.389115e+08   \n",
       "std    3.987697e+08  4.079989e+08  4.172145e+08  4.266937e+08  4.365313e+08   \n",
       "min    4.282000e+03  4.664000e+03  5.071000e+03  5.500000e+03  5.631000e+03   \n",
       "25%    5.675750e+05  5.711695e+05  5.779525e+05  5.825170e+05  5.861185e+05   \n",
       "50%    4.102976e+06  4.198738e+06  4.297792e+06  4.396290e+06  4.503420e+06   \n",
       "75%    3.075921e+07  3.147516e+07  3.203946e+07  3.247057e+07  3.277149e+07   \n",
       "max    3.318998e+09  3.389087e+09  3.459015e+09  3.530704e+09  3.604816e+09   \n",
       "\n",
       "       ...          2017          2018          2019          2020  \\\n",
       "count  ...  2.650000e+02  2.650000e+02  2.650000e+02  2.650000e+02   \n",
       "mean   ...  3.078574e+08  3.116049e+08  3.152801e+08  3.187967e+08   \n",
       "std    ...  9.557617e+08  9.664403e+08  9.768047e+08  9.866025e+08   \n",
       "min    ...  1.086900e+04  1.075100e+04  1.058100e+04  1.039900e+04   \n",
       "25%    ...  1.791019e+06  1.797086e+06  1.788891e+06  1.790151e+06   \n",
       "50%    ...  1.025915e+07  1.028382e+07  1.042338e+07  1.069786e+07   \n",
       "75%    ...  6.000225e+07  6.014866e+07  5.972908e+07  6.097280e+07   \n",
       "max    ...  7.614749e+09  7.697492e+09  7.778304e+09  7.855075e+09   \n",
       "\n",
       "               2021          2022          2023          2024  Unnamed: 69  \\\n",
       "count  2.650000e+02  2.650000e+02  2.650000e+02  2.650000e+02          0.0   \n",
       "mean   3.219557e+08  3.251253e+08  3.284356e+08  3.318869e+08          NaN   \n",
       "std    9.952966e+08  1.003734e+09  1.012519e+09  1.021734e+09          NaN   \n",
       "min    1.019400e+04  9.992000e+03  9.816000e+03  9.646000e+03          NaN   \n",
       "25%    1.786079e+06  1.803545e+06  1.827816e+06  1.792179e+06          NaN   \n",
       "50%    1.050577e+07  1.048694e+07  1.064485e+07  1.087698e+07          NaN   \n",
       "75%    6.283041e+07  6.471182e+07  6.661761e+07  6.851670e+07          NaN   \n",
       "max    7.920862e+09  7.990400e+09  8.064977e+09  8.142056e+09          NaN   \n",
       "\n",
       "       Unnamed: 5  \n",
       "count         0.0  \n",
       "mean          NaN  \n",
       "std           NaN  \n",
       "min           NaN  \n",
       "25%           NaN  \n",
       "50%           NaN  \n",
       "75%           NaN  \n",
       "max           NaN  \n",
       "\n",
       "[8 rows x 67 columns]"
      ]
     },
     "execution_count": 5,
     "metadata": {},
     "output_type": "execute_result"
    }
   ],
   "source": [
    "merged_df.describe()"
   ]
  },
  {
   "cell_type": "code",
   "execution_count": 6,
   "id": "b2e01cf6",
   "metadata": {},
   "outputs": [
    {
     "data": {
      "text/plain": [
       "Index(['Country Name', 'Country Code', 'Indicator Name', 'Indicator Code',\n",
       "       '1960', '1961', '1962', '1963', '1964', '1965', '1966', '1967', '1968',\n",
       "       '1969', '1970', '1971', '1972', '1973', '1974', '1975', '1976', '1977',\n",
       "       '1978', '1979', '1980', '1981', '1982', '1983', '1984', '1985', '1986',\n",
       "       '1987', '1988', '1989', '1990', '1991', '1992', '1993', '1994', '1995',\n",
       "       '1996', '1997', '1998', '1999', '2000', '2001', '2002', '2003', '2004',\n",
       "       '2005', '2006', '2007', '2008', '2009', '2010', '2011', '2012', '2013',\n",
       "       '2014', '2015', '2016', '2017', '2018', '2019', '2020', '2021', '2022',\n",
       "       '2023', '2024', 'Unnamed: 69', 'Region', 'IncomeGroup', 'SpecialNotes',\n",
       "       'TableName', 'Unnamed: 5'],\n",
       "      dtype='object')"
      ]
     },
     "execution_count": 6,
     "metadata": {},
     "output_type": "execute_result"
    }
   ],
   "source": [
    "merged_df.columns"
   ]
  },
  {
   "cell_type": "markdown",
   "id": "1e611eab",
   "metadata": {},
   "source": [
    "## Step 2: Reshape the Data\n",
    "\n",
    "We convert the wide format (year columns) into a long format for time-series analysis. Then filter years between 1960 and 2022.\n"
   ]
  },
  {
   "cell_type": "code",
   "execution_count": null,
   "id": "d3687b19",
   "metadata": {},
   "outputs": [
    {
     "data": {
      "application/javascript": "\n        if (window._pyforest_update_imports_cell) { window._pyforest_update_imports_cell('import pandas as pd'); }\n    ",
      "text/plain": [
       "<IPython.core.display.Javascript object>"
      ]
     },
     "metadata": {},
     "output_type": "display_data"
    },
    {
     "data": {
      "text/html": [
       "<div>\n",
       "<style scoped>\n",
       "    .dataframe tbody tr th:only-of-type {\n",
       "        vertical-align: middle;\n",
       "    }\n",
       "\n",
       "    .dataframe tbody tr th {\n",
       "        vertical-align: top;\n",
       "    }\n",
       "\n",
       "    .dataframe thead th {\n",
       "        text-align: right;\n",
       "    }\n",
       "</style>\n",
       "<table border=\"1\" class=\"dataframe\">\n",
       "  <thead>\n",
       "    <tr style=\"text-align: right;\">\n",
       "      <th></th>\n",
       "      <th>Country Name</th>\n",
       "      <th>Country Code</th>\n",
       "      <th>Region</th>\n",
       "      <th>IncomeGroup</th>\n",
       "      <th>Year</th>\n",
       "      <th>Population</th>\n",
       "    </tr>\n",
       "  </thead>\n",
       "  <tbody>\n",
       "    <tr>\n",
       "      <th>530</th>\n",
       "      <td>Aruba</td>\n",
       "      <td>ABW</td>\n",
       "      <td>Latin America &amp; Caribbean</td>\n",
       "      <td>High income</td>\n",
       "      <td>1960.0</td>\n",
       "      <td>54922.0</td>\n",
       "    </tr>\n",
       "    <tr>\n",
       "      <th>531</th>\n",
       "      <td>Africa Eastern and Southern</td>\n",
       "      <td>AFE</td>\n",
       "      <td>NaN</td>\n",
       "      <td>NaN</td>\n",
       "      <td>1960.0</td>\n",
       "      <td>130075728.0</td>\n",
       "    </tr>\n",
       "    <tr>\n",
       "      <th>532</th>\n",
       "      <td>Afghanistan</td>\n",
       "      <td>AFG</td>\n",
       "      <td>Middle East, North Africa, Afghanistan &amp; Pakistan</td>\n",
       "      <td>Low income</td>\n",
       "      <td>1960.0</td>\n",
       "      <td>9035043.0</td>\n",
       "    </tr>\n",
       "    <tr>\n",
       "      <th>533</th>\n",
       "      <td>Africa Western and Central</td>\n",
       "      <td>AFW</td>\n",
       "      <td>NaN</td>\n",
       "      <td>NaN</td>\n",
       "      <td>1960.0</td>\n",
       "      <td>97630925.0</td>\n",
       "    </tr>\n",
       "    <tr>\n",
       "      <th>534</th>\n",
       "      <td>Angola</td>\n",
       "      <td>AGO</td>\n",
       "      <td>Sub-Saharan Africa</td>\n",
       "      <td>Lower middle income</td>\n",
       "      <td>1960.0</td>\n",
       "      <td>5231654.0</td>\n",
       "    </tr>\n",
       "  </tbody>\n",
       "</table>\n",
       "</div>"
      ],
      "text/plain": [
       "                    Country Name Country Code  \\\n",
       "530                        Aruba          ABW   \n",
       "531  Africa Eastern and Southern          AFE   \n",
       "532                  Afghanistan          AFG   \n",
       "533   Africa Western and Central          AFW   \n",
       "534                       Angola          AGO   \n",
       "\n",
       "                                                Region          IncomeGroup  \\\n",
       "530                          Latin America & Caribbean          High income   \n",
       "531                                                NaN                  NaN   \n",
       "532  Middle East, North Africa, Afghanistan & Pakistan           Low income   \n",
       "533                                                NaN                  NaN   \n",
       "534                                 Sub-Saharan Africa  Lower middle income   \n",
       "\n",
       "       Year   Population  \n",
       "530  1960.0      54922.0  \n",
       "531  1960.0  130075728.0  \n",
       "532  1960.0    9035043.0  \n",
       "533  1960.0   97630925.0  \n",
       "534  1960.0    5231654.0  "
      ]
     },
     "execution_count": 10,
     "metadata": {},
     "output_type": "execute_result"
    }
   ],
   "source": [
    "# Melt the dataframe\n",
    "long_df = merged_df.melt(\n",
    "    id_vars=[\"Country Name\", \"Country Code\", \"Region\", \"IncomeGroup\"],  # Use actual column name 'IncomeGroup'\n",
    "    var_name=\"Year\",\n",
    "    value_name=\"Population\"\n",
    ")\n",
    "\n",
    "# Convert year to numeric and filter range\n",
    "long_df[\"Year\"] = pd.to_numeric(long_df[\"Year\"], errors=\"coerce\")\n",
    "long_df = long_df[(long_df[\"Year\"] >= 1960) & (long_df[\"Year\"] <= 2022)]\n",
    "\n",
    "# Drop rows with missing Population values\n",
    "long_df = long_df.dropna(subset=[\"Population\"])\n",
    "\n",
    "long_df.head()"
   ]
  },
  {
   "cell_type": "markdown",
   "id": "c704b8d2",
   "metadata": {},
   "source": [
    "## Step 3: Metadata Enrichment\n",
    "\n",
    "Categorize countries by income groups and regions for comparative analysis.\n"
   ]
  },
  {
   "cell_type": "code",
   "execution_count": null,
   "id": "f4ffa802",
   "metadata": {},
   "outputs": [],
   "source": [
    "# Drop missing population entries\n",
    "long_df = long_df.dropna(subset=[\"Population\"])\n",
    "\n",
    "# Define custom developpment categories based on income levels\n",
    "income_map = {\n",
    "    \"Low income\": \"Developing\",\n",
    "    \"Lower middle income\": \"Developing\",\n",
    "    \"Upper middle income\": \"Emerging\",\n",
    "    \"High income\": \"Developed\"\n",
    "}\n",
    "\n",
    "# Apply mapping to corect column name 'IncomeGroup'\n",
    "long_df[\"Development Group\"] = long_df[\"IncomeGroup\"].map(income_map)\n"
   ]
  },
  {
   "cell_type": "code",
   "execution_count": 13,
   "id": "dc340b77",
   "metadata": {},
   "outputs": [
    {
     "name": "stdout",
     "output_type": "stream",
     "text": [
      "Development Group\n",
      "Developed     5418\n",
      "Developing    4695\n",
      "Emerging      3402\n",
      "Name: count, dtype: int64\n"
     ]
    }
   ],
   "source": [
    "print(long_df[\"Development Group\"].value_counts())\n"
   ]
  },
  {
   "cell_type": "markdown",
   "id": "9eb0f2b4",
   "metadata": {},
   "source": [
    "## Step 4: Exploratory Data Analysis (EDA)\n",
    "\n",
    "We explore overall trends, regional breakdowns, and the top 10 countries by population.\n"
   ]
  },
  {
   "cell_type": "code",
   "execution_count": 14,
   "id": "97eeeed2",
   "metadata": {},
   "outputs": [
    {
     "data": {
      "application/javascript": "\n        if (window._pyforest_update_imports_cell) { window._pyforest_update_imports_cell('import matplotlib.pyplot as plt\\nimport pandas as pd'); }\n    ",
      "text/plain": [
       "<IPython.core.display.Javascript object>"
      ]
     },
     "metadata": {},
     "output_type": "display_data"
    },
    {
     "data": {
      "application/javascript": "\n        if (window._pyforest_update_imports_cell) { window._pyforest_update_imports_cell('import matplotlib.pyplot as plt\\nimport seaborn as sns\\nimport pandas as pd'); }\n    ",
      "text/plain": [
       "<IPython.core.display.Javascript object>"
      ]
     },
     "metadata": {},
     "output_type": "display_data"
    },
    {
     "data": {
      "application/javascript": "\n        if (window._pyforest_update_imports_cell) { window._pyforest_update_imports_cell('import matplotlib.pyplot as plt\\nimport seaborn as sns\\nimport pandas as pd'); }\n    ",
      "text/plain": [
       "<IPython.core.display.Javascript object>"
      ]
     },
     "metadata": {},
     "output_type": "display_data"
    },
    {
     "data": {
      "application/javascript": "\n        if (window._pyforest_update_imports_cell) { window._pyforest_update_imports_cell('import matplotlib.pyplot as plt\\nimport seaborn as sns\\nimport pandas as pd'); }\n    ",
      "text/plain": [
       "<IPython.core.display.Javascript object>"
      ]
     },
     "metadata": {},
     "output_type": "display_data"
    },
    {
     "data": {
      "application/javascript": "\n        if (window._pyforest_update_imports_cell) { window._pyforest_update_imports_cell('import matplotlib.pyplot as plt\\nimport seaborn as sns\\nimport pandas as pd'); }\n    ",
      "text/plain": [
       "<IPython.core.display.Javascript object>"
      ]
     },
     "metadata": {},
     "output_type": "display_data"
    },
    {
     "data": {
      "application/javascript": "\n        if (window._pyforest_update_imports_cell) { window._pyforest_update_imports_cell('import matplotlib.pyplot as plt\\nimport seaborn as sns\\nimport pandas as pd'); }\n    ",
      "text/plain": [
       "<IPython.core.display.Javascript object>"
      ]
     },
     "metadata": {},
     "output_type": "display_data"
    },
    {
     "data": {
      "application/javascript": "\n        if (window._pyforest_update_imports_cell) { window._pyforest_update_imports_cell('import matplotlib.pyplot as plt\\nimport seaborn as sns\\nimport pandas as pd'); }\n    ",
      "text/plain": [
       "<IPython.core.display.Javascript object>"
      ]
     },
     "metadata": {},
     "output_type": "display_data"
    },
    {
     "data": {
      "application/javascript": "\n        if (window._pyforest_update_imports_cell) { window._pyforest_update_imports_cell('import matplotlib.pyplot as plt\\nimport seaborn as sns\\nimport pandas as pd'); }\n    ",
      "text/plain": [
       "<IPython.core.display.Javascript object>"
      ]
     },
     "metadata": {},
     "output_type": "display_data"
    },
    {
     "data": {
      "image/png": "[encoded data removed]",
      "text/plain": [
       "<Figure size 1200x600 with 1 Axes>"
      ]
     },
     "metadata": {},
     "output_type": "display_data"
    }
   ],
   "source": [
    "# Global total population by year\n",
    "global_pop = long_df.groupby(\"Year\", as_index=False)[\"Population\"].sum()\n",
    "\n",
    "plt.figure(figsize=(12, 6))\n",
    "sns.lineplot(data=global_pop, x=\"Year\", y=\"Population\", linewidth=2.5)\n",
    "plt.title(\"Global Total Population Over Time\", fontsize=14)\n",
    "plt.xlabel(\"Year\")\n",
    "plt.ylabel(\"Total Population\")\n",
    "plt.grid(True)\n",
    "plt.tight_layout()\n",
    "plt.show()"
   ]
  },
  {
   "cell_type": "code",
   "execution_count": null,
   "id": "78415668",
   "metadata": {},
   "outputs": [
    {
     "data": {
      "application/javascript": "\n        if (window._pyforest_update_imports_cell) { window._pyforest_update_imports_cell('import matplotlib.pyplot as plt\\nimport seaborn as sns\\nimport pandas as pd'); }\n    ",
      "text/plain": [
       "<IPython.core.display.Javascript object>"
      ]
     },
     "metadata": {},
     "output_type": "display_data"
    }
   ],
   "source": [
    "#If you have issue try to restart the kernel and run all cells again\n",
    "#check this line to see the unique years in the dataset\n",
    "# long_df['Year'].unique()\n",
    "# long_df\n",
    "# Convert Population to numeric (safe conversion)\n",
    "long_df[\"Population\"] = pd.to_numeric(long_df[\"Population\"], errors=\"coerce\")"
   ]
  },
  {
   "cell_type": "code",
   "execution_count": null,
   "id": "ea70ae3c",
   "metadata": {},
   "outputs": [],
   "source": [
    "# Latest year\n",
    "latest_year = long_df[\"Year\"].max()\n",
    "\n",
    "# Group by Country\n",
    "top_countries = (\n",
    "    long_df[long_df[\"Year\"] == latest_year]\n",
    "    .groupby(\"Country Name\", as_index=False)[\"Population\"]\n",
    "    .sum()\n",
    "    .nlargest(10, \"Population\")\n",
    ")\n"
   ]
  },
  {
   "cell_type": "code",
   "execution_count": 27,
   "id": "64492aaa",
   "metadata": {},
   "outputs": [
    {
     "name": "stdout",
     "output_type": "stream",
     "text": [
      "Country Name    0\n",
      "Population      0\n",
      "dtype: int64\n"
     ]
    }
   ],
   "source": [
    "print(top_countries.isnull().sum())\n"
   ]
  },
  {
   "cell_type": "code",
   "execution_count": 28,
   "id": "8cba5fda",
   "metadata": {},
   "outputs": [
    {
     "data": {
      "application/javascript": "\n        if (window._pyforest_update_imports_cell) { window._pyforest_update_imports_cell('import matplotlib.pyplot as plt\\nimport seaborn as sns\\nimport pandas as pd'); }\n    ",
      "text/plain": [
       "<IPython.core.display.Javascript object>"
      ]
     },
     "metadata": {},
     "output_type": "display_data"
    },
    {
     "data": {
      "application/javascript": "\n        if (window._pyforest_update_imports_cell) { window._pyforest_update_imports_cell('import matplotlib.pyplot as plt\\nimport seaborn as sns\\nimport pandas as pd'); }\n    ",
      "text/plain": [
       "<IPython.core.display.Javascript object>"
      ]
     },
     "metadata": {},
     "output_type": "display_data"
    },
    {
     "name": "stderr",
     "output_type": "stream",
     "text": [
      "C:\\Users\\A\\AppData\\Local\\Temp\\ipykernel_14752\\214346647.py:14: FutureWarning: \n",
      "\n",
      "Passing `palette` without assigning `hue` is deprecated and will be removed in v0.14.0. Assign the `x` variable to `hue` and set `legend=False` for the same effect.\n",
      "\n",
      "  sns.barplot(data=top_countries, x=\"Country Name\", y=\"Population\", palette=\"viridis\")\n"
     ]
    },
    {
     "data": {
      "application/javascript": "\n        if (window._pyforest_update_imports_cell) { window._pyforest_update_imports_cell('import matplotlib.pyplot as plt\\nimport seaborn as sns\\nimport pandas as pd'); }\n    ",
      "text/plain": [
       "<IPython.core.display.Javascript object>"
      ]
     },
     "metadata": {},
     "output_type": "display_data"
    },
    {
     "data": {
      "application/javascript": "\n        if (window._pyforest_update_imports_cell) { window._pyforest_update_imports_cell('import matplotlib.pyplot as plt\\nimport seaborn as sns\\nimport pandas as pd'); }\n    ",
      "text/plain": [
       "<IPython.core.display.Javascript object>"
      ]
     },
     "metadata": {},
     "output_type": "display_data"
    },
    {
     "data": {
      "application/javascript": "\n        if (window._pyforest_update_imports_cell) { window._pyforest_update_imports_cell('import matplotlib.pyplot as plt\\nimport seaborn as sns\\nimport pandas as pd'); }\n    ",
      "text/plain": [
       "<IPython.core.display.Javascript object>"
      ]
     },
     "metadata": {},
     "output_type": "display_data"
    },
    {
     "data": {
      "application/javascript": "\n        if (window._pyforest_update_imports_cell) { window._pyforest_update_imports_cell('import matplotlib.pyplot as plt\\nimport seaborn as sns\\nimport pandas as pd'); }\n    ",
      "text/plain": [
       "<IPython.core.display.Javascript object>"
      ]
     },
     "metadata": {},
     "output_type": "display_data"
    },
    {
     "data": {
      "application/javascript": "\n        if (window._pyforest_update_imports_cell) { window._pyforest_update_imports_cell('import matplotlib.pyplot as plt\\nimport seaborn as sns\\nimport pandas as pd'); }\n    ",
      "text/plain": [
       "<IPython.core.display.Javascript object>"
      ]
     },
     "metadata": {},
     "output_type": "display_data"
    },
    {
     "data": {
      "application/javascript": "\n        if (window._pyforest_update_imports_cell) { window._pyforest_update_imports_cell('import matplotlib.pyplot as plt\\nimport seaborn as sns\\nimport pandas as pd'); }\n    ",
      "text/plain": [
       "<IPython.core.display.Javascript object>"
      ]
     },
     "metadata": {},
     "output_type": "display_data"
    },
    {
     "data": {
      "image/png": "[encoded data removed]",
      "text/plain": [
       "<Figure size 1000x600 with 1 Axes>"
      ]
     },
     "metadata": {},
     "output_type": "display_data"
    }
   ],
   "source": [
    "# Get the latest year from dataset\n",
    "latest_year = long_df[\"Year\"].max()\n",
    "\n",
    "# Aggregate population by country for that year\n",
    "top_countries = (\n",
    "    long_df[long_df[\"Year\"] == latest_year]\n",
    "    .groupby(\"Country Name\", as_index=False)[\"Population\"]\n",
    "    .sum()\n",
    "    .nlargest(10, \"Population\")\n",
    ")\n",
    "\n",
    "# Visualize the top 10 most populous countries\n",
    "plt.figure(figsize=(10, 6))\n",
    "sns.barplot(data=top_countries, x=\"Country Name\", y=\"Population\", palette=\"viridis\")\n",
    "plt.title(f\"Top 10 Most Populous Countries in {int(latest_year)}\", fontsize=14)\n",
    "plt.ylabel(\"Population\")\n",
    "plt.xlabel(\"Country\")\n",
    "plt.xticks(rotation=45, ha='right')\n",
    "plt.tight_layout()\n",
    "plt.show()\n",
    "\n"
   ]
  },
  {
   "cell_type": "code",
   "execution_count": 32,
   "id": "fa393cbd",
   "metadata": {},
   "outputs": [
    {
     "data": {
      "text/plain": [
       "array([1960., 1961., 1962., 1963., 1964., 1965., 1966., 1967., 1968.,\n",
       "       1969., 1970., 1971., 1972., 1973., 1974., 1975., 1976., 1977.,\n",
       "       1978., 1979., 1980., 1981., 1982., 1983., 1984., 1985., 1986.,\n",
       "       1987., 1988., 1989., 1990., 1991., 1992., 1993., 1994., 1995.,\n",
       "       1996., 1997., 1998., 1999., 2000., 2001., 2002., 2003., 2004.,\n",
       "       2005., 2006., 2007., 2008., 2009., 2010., 2011., 2012., 2013.,\n",
       "       2014., 2015., 2016., 2017., 2018., 2019., 2020., 2021., 2022.])"
      ]
     },
     "execution_count": 32,
     "metadata": {},
     "output_type": "execute_result"
    }
   ],
   "source": [
    "long_df['Year'].unique()\n"
   ]
  },
  {
   "cell_type": "markdown",
   "id": "bcb12ccb",
   "metadata": {},
   "source": [
    "## Step 5: Regional Comparison\n",
    "\n",
    "Visualize regional population evolution to identify growth zones.\n"
   ]
  },
  {
   "cell_type": "code",
   "execution_count": 29,
   "id": "23377909",
   "metadata": {},
   "outputs": [
    {
     "data": {
      "application/javascript": "\n        if (window._pyforest_update_imports_cell) { window._pyforest_update_imports_cell('import matplotlib.pyplot as plt\\nimport seaborn as sns\\nimport pandas as pd'); }\n    ",
      "text/plain": [
       "<IPython.core.display.Javascript object>"
      ]
     },
     "metadata": {},
     "output_type": "display_data"
    },
    {
     "data": {
      "application/javascript": "\n        if (window._pyforest_update_imports_cell) { window._pyforest_update_imports_cell('import matplotlib.pyplot as plt\\nimport seaborn as sns\\nimport pandas as pd'); }\n    ",
      "text/plain": [
       "<IPython.core.display.Javascript object>"
      ]
     },
     "metadata": {},
     "output_type": "display_data"
    },
    {
     "data": {
      "application/javascript": "\n        if (window._pyforest_update_imports_cell) { window._pyforest_update_imports_cell('import matplotlib.pyplot as plt\\nimport seaborn as sns\\nimport pandas as pd'); }\n    ",
      "text/plain": [
       "<IPython.core.display.Javascript object>"
      ]
     },
     "metadata": {},
     "output_type": "display_data"
    },
    {
     "data": {
      "application/javascript": "\n        if (window._pyforest_update_imports_cell) { window._pyforest_update_imports_cell('import matplotlib.pyplot as plt\\nimport seaborn as sns\\nimport pandas as pd'); }\n    ",
      "text/plain": [
       "<IPython.core.display.Javascript object>"
      ]
     },
     "metadata": {},
     "output_type": "display_data"
    },
    {
     "data": {
      "application/javascript": "\n        if (window._pyforest_update_imports_cell) { window._pyforest_update_imports_cell('import matplotlib.pyplot as plt\\nimport seaborn as sns\\nimport pandas as pd'); }\n    ",
      "text/plain": [
       "<IPython.core.display.Javascript object>"
      ]
     },
     "metadata": {},
     "output_type": "display_data"
    },
    {
     "data": {
      "application/javascript": "\n        if (window._pyforest_update_imports_cell) { window._pyforest_update_imports_cell('import matplotlib.pyplot as plt\\nimport seaborn as sns\\nimport pandas as pd'); }\n    ",
      "text/plain": [
       "<IPython.core.display.Javascript object>"
      ]
     },
     "metadata": {},
     "output_type": "display_data"
    },
    {
     "data": {
      "application/javascript": "\n        if (window._pyforest_update_imports_cell) { window._pyforest_update_imports_cell('import matplotlib.pyplot as plt\\nimport seaborn as sns\\nimport pandas as pd'); }\n    ",
      "text/plain": [
       "<IPython.core.display.Javascript object>"
      ]
     },
     "metadata": {},
     "output_type": "display_data"
    },
    {
     "data": {
      "image/png": "[encoded data removed]",
      "text/plain": [
       "<Figure size 1200x600 with 1 Axes>"
      ]
     },
     "metadata": {},
     "output_type": "display_data"
    }
   ],
   "source": [
    "region_pop = long_df.groupby([\"Region\", \"Year\"])[\"Population\"].sum().reset_index()\n",
    "\n",
    "plt.figure(figsize=(12, 6))\n",
    "sns.lineplot(data=region_pop, x=\"Year\", y=\"Population\", hue=\"Region\")\n",
    "plt.title(\"Population Growth by Region\")\n",
    "plt.ylabel(\"Population\")\n",
    "plt.legend(bbox_to_anchor=(1.05, 1), loc='upper left')\n",
    "plt.grid(True)\n",
    "plt.show()\n"
   ]
  },
  {
   "cell_type": "markdown",
   "id": "6af2c8d9",
   "metadata": {},
   "source": [
    "## Step 6: Growth Rate Analysis\n",
    "\n",
    "We compute year-over-year growth rates and rank countries by average annual increase.\n"
   ]
  },
  {
   "cell_type": "code",
   "execution_count": 30,
   "id": "9ce1a7a6",
   "metadata": {},
   "outputs": [
    {
     "name": "stdout",
     "output_type": "stream",
     "text": [
      "Top 10 by Avg. Annual Growth:\n",
      "Country Name               Country Code\n",
      "United Arab Emirates       ARE             7.335655\n",
      "Qatar                      QAT             7.307731\n",
      "Kuwait                     KWT             4.625331\n",
      "Sint Maarten (Dutch part)  SXM             4.587188\n",
      "Djibouti                   DJI             4.290942\n",
      "Saudi Arabia               SAU             4.267799\n",
      "Jordan                     JOR             4.267105\n",
      "Bahrain                    BHR             3.671363\n",
      "Oman                       OMN             3.624807\n",
      "Andorra                    AND             3.539243\n",
      "dtype: float64\n",
      "\n",
      "Bottom 10 by Avg. Annual Growth:\n",
      "Country Name            Country Code\n",
      "Georgia                 GEO             0.036733\n",
      "Lithuania               LTU             0.035642\n",
      "Serbia                  SRB             0.009575\n",
      "Bosnia and Herzegovina  BIH            -0.020211\n",
      "Ukraine                 UKR            -0.061577\n",
      "Hungary                 HUN            -0.061727\n",
      "Croatia                 HRV            -0.110968\n",
      "Latvia                  LVA            -0.189898\n",
      "St. Kitts and Nevis     KNA            -0.280947\n",
      "Bulgaria                BGR            -0.312790\n",
      "dtype: float64\n"
     ]
    },
    {
     "name": "stderr",
     "output_type": "stream",
     "text": [
      "C:\\Users\\A\\AppData\\Local\\Temp\\ipykernel_14752\\3643062513.py:3: FutureWarning: The default fill_method='pad' in DataFrame.pct_change is deprecated and will be removed in a future version. Either fill in any non-leading NA values prior to calling pct_change or specify 'fill_method=None' to not fill NA values.\n",
      "  growth_df = pivot_df.pct_change(axis=1) * 100\n"
     ]
    }
   ],
   "source": [
    "# Pivot for growth calculation\n",
    "pivot_df = long_df.pivot_table(index=[\"Country Name\", \"Country Code\"], columns=\"Year\", values=\"Population\")\n",
    "growth_df = pivot_df.pct_change(axis=1) * 100\n",
    "\n",
    "# Compute mean growth across years\n",
    "avg_growth = growth_df.mean(axis=1).sort_values(ascending=False)\n",
    "\n",
    "# Top and bottom growth countries\n",
    "print(\"Top 10 by Avg. Annual Growth:\")\n",
    "print(avg_growth.head(10))\n",
    "\n",
    "print(\"\\nBottom 10 by Avg. Annual Growth:\")\n",
    "print(avg_growth.tail(10))\n"
   ]
  },
  {
   "cell_type": "markdown",
   "id": "695d5899",
   "metadata": {},
   "source": [
    "## Step 7: Interactive Visualization (Optional)\n",
    "\n",
    "Use Plotly for hoverable, filterable, and animated graphs.\n"
   ]
  },
  {
   "cell_type": "code",
   "execution_count": 31,
   "id": "43ac2588",
   "metadata": {},
   "outputs": [
    {
     "data": {
      "application/vnd.plotly.v1+json": {
       "config": {
        "plotlyServerURL": "https://plot.ly"
       },
       "data": [
        {
         "hovertemplate": "Year=%{x}<br>Population=%{y}<extra></extra>",
         "legendgroup": "",
         "line": {
          "color": "royalblue",
          "dash": "solid"
         },
         "marker": {
          "symbol": "circle"
         },
         "mode": "lines",
         "name": "",
         "orientation": "h",
         "showlegend": false,
         "type": "scatter",
         "x": [
          1960,
          1961,
          1962,
          1963,
          1964,
          1965,
          1966,
          1967,
          1968,
          1969,
          1970,
          1971,
          1972,
          1973,
          1974,
          1975,
          1976,
          1977,
          1978,
          1979,
          1980,
          1981,
          1982,
          1983,
          1984,
          1985,
          1986,
          1987,
          1988,
          1989,
          1990,
          1991,
          1992,
          1993,
          1994,
          1995,
          1996,
          1997,
          1998,
          1999,
          2000,
          2001,
          2002,
          2003,
          2004,
          2005,
          2006,
          2007,
          2008,
          2009,
          2010,
          2011,
          2012,
          2013,
          2014,
          2015,
          2016,
          2017,
          2018,
          2019,
          2020,
          2021,
          2022
         ],
         "xaxis": "x",
         "y": [
          30466203978,
          30889845829,
          31460307145,
          32165249355,
          32876505640,
          33596142404,
          34347377614,
          35100640470,
          35873670213,
          36672630348,
          37488323981,
          38321026258,
          39138666159,
          39968557071,
          40796221628,
          41609310924,
          42412752596,
          43211542057,
          44027296685,
          44867801146,
          45719168530,
          46587537039,
          47495947722,
          48417813133,
          49338396666,
          50277212433,
          51240875431,
          52230229143,
          53227433119,
          54227437012,
          55240882167,
          56224021080,
          57202612104,
          58180211936,
          59143840282,
          60103409722,
          61066516311,
          62027774819,
          62989252114,
          63939984492,
          64880030174,
          65818945353,
          66754460991,
          67691009430,
          68635906366,
          69584072729,
          70542760874,
          71502357576,
          72481498039,
          73469594515,
          74453524900,
          75449934224,
          76485538482,
          77514853481,
          78540144528,
          79555062191,
          80569282726,
          81582207028,
          82575293206,
          83549239718,
          84481137565,
          85318264001,
          86158208225
         ],
         "yaxis": "y"
        }
       ],
       "layout": {
        "legend": {
         "tracegroupgap": 0
        },
        "template": {
         "data": {
          "bar": [
           {
            "error_x": {
             "color": "#2a3f5f"
            },
            "error_y": {
             "color": "#2a3f5f"
            },
            "marker": {
             "line": {
              "color": "#E5ECF6",
              "width": 0.5
             },
             "pattern": {
              "fillmode": "overlay",
              "size": 10,
              "solidity": 0.2
             }
            },
            "type": "bar"
           }
          ],
          "barpolar": [
           {
            "marker": {
             "line": {
              "color": "#E5ECF6",
              "width": 0.5
             },
             "pattern": {
              "fillmode": "overlay",
              "size": 10,
              "solidity": 0.2
             }
            },
            "type": "barpolar"
           }
          ],
          "carpet": [
           {
            "aaxis": {
             "endlinecolor": "#2a3f5f",
             "gridcolor": "white",
             "linecolor": "white",
             "minorgridcolor": "white",
             "startlinecolor": "#2a3f5f"
            },
            "baxis": {
             "endlinecolor": "#2a3f5f",
             "gridcolor": "white",
             "linecolor": "white",
             "minorgridcolor": "white",
             "startlinecolor": "#2a3f5f"
            },
            "type": "carpet"
           }
          ],
          "choropleth": [
           {
            "colorbar": {
             "outlinewidth": 0,
             "ticks": ""
            },
            "type": "choropleth"
           }
          ],
          "contour": [
           {
            "colorbar": {
             "outlinewidth": 0,
             "ticks": ""
            },
            "colorscale": [
             [
              0,
              "#0d0887"
             ],
             [
              0.1111111111111111,
              "#46039f"
             ],
             [
              0.2222222222222222,
              "#7201a8"
             ],
             [
              0.3333333333333333,
              "#9c179e"
             ],
             [
              0.4444444444444444,
              "#bd3786"
             ],
             [
              0.5555555555555556,
              "#d8576b"
             ],
             [
              0.6666666666666666,
              "#ed7953"
             ],
             [
              0.7777777777777778,
              "#fb9f3a"
             ],
             [
              0.8888888888888888,
              "#fdca26"
             ],
             [
              1,
              "#f0f921"
             ]
            ],
            "type": "contour"
           }
          ],
          "contourcarpet": [
           {
            "colorbar": {
             "outlinewidth": 0,
             "ticks": ""
            },
            "type": "contourcarpet"
           }
          ],
          "heatmap": [
           {
            "colorbar": {
             "outlinewidth": 0,
             "ticks": ""
            },
            "colorscale": [
             [
              0,
              "#0d0887"
             ],
             [
              0.1111111111111111,
              "#46039f"
             ],
             [
              0.2222222222222222,
              "#7201a8"
             ],
             [
              0.3333333333333333,
              "#9c179e"
             ],
             [
              0.4444444444444444,
              "#bd3786"
             ],
             [
              0.5555555555555556,
              "#d8576b"
             ],
             [
              0.6666666666666666,
              "#ed7953"
             ],
             [
              0.7777777777777778,
              "#fb9f3a"
             ],
             [
              0.8888888888888888,
              "#fdca26"
             ],
             [
              1,
              "#f0f921"
             ]
            ],
            "type": "heatmap"
           }
          ],
          "heatmapgl": [
           {
            "colorbar": {
             "outlinewidth": 0,
             "ticks": ""
            },
            "colorscale": [
             [
              0,
              "#0d0887"
             ],
             [
              0.1111111111111111,
              "#46039f"
             ],
             [
              0.2222222222222222,
              "#7201a8"
             ],
             [
              0.3333333333333333,
              "#9c179e"
             ],
             [
              0.4444444444444444,
              "#bd3786"
             ],
             [
              0.5555555555555556,
              "#d8576b"
             ],
             [
              0.6666666666666666,
              "#ed7953"
             ],
             [
              0.7777777777777778,
              "#fb9f3a"
             ],
             [
              0.8888888888888888,
              "#fdca26"
             ],
             [
              1,
              "#f0f921"
             ]
            ],
            "type": "heatmapgl"
           }
          ],
          "histogram": [
           {
            "marker": {
             "pattern": {
              "fillmode": "overlay",
              "size": 10,
              "solidity": 0.2
             }
            },
            "type": "histogram"
           }
          ],
          "histogram2d": [
           {
            "colorbar": {
             "outlinewidth": 0,
             "ticks": ""
            },
            "colorscale": [
             [
              0,
              "#0d0887"
             ],
             [
              0.1111111111111111,
              "#46039f"
             ],
             [
              0.2222222222222222,
              "#7201a8"
             ],
             [
              0.3333333333333333,
              "#9c179e"
             ],
             [
              0.4444444444444444,
              "#bd3786"
             ],
             [
              0.5555555555555556,
              "#d8576b"
             ],
             [
              0.6666666666666666,
              "#ed7953"
             ],
             [
              0.7777777777777778,
              "#fb9f3a"
             ],
             [
              0.8888888888888888,
              "#fdca26"
             ],
             [
              1,
              "#f0f921"
             ]
            ],
            "type": "histogram2d"
           }
          ],
          "histogram2dcontour": [
           {
            "colorbar": {
             "outlinewidth": 0,
             "ticks": ""
            },
            "colorscale": [
             [
              0,
              "#0d0887"
             ],
             [
              0.1111111111111111,
              "#46039f"
             ],
             [
              0.2222222222222222,
              "#7201a8"
             ],
             [
              0.3333333333333333,
              "#9c179e"
             ],
             [
              0.4444444444444444,
              "#bd3786"
             ],
             [
              0.5555555555555556,
              "#d8576b"
             ],
             [
              0.6666666666666666,
              "#ed7953"
             ],
             [
              0.7777777777777778,
              "#fb9f3a"
             ],
             [
              0.8888888888888888,
              "#fdca26"
             ],
             [
              1,
              "#f0f921"
             ]
            ],
            "type": "histogram2dcontour"
           }
          ],
          "mesh3d": [
           {
            "colorbar": {
             "outlinewidth": 0,
             "ticks": ""
            },
            "type": "mesh3d"
           }
          ],
          "parcoords": [
           {
            "line": {
             "colorbar": {
              "outlinewidth": 0,
              "ticks": ""
             }
            },
            "type": "parcoords"
           }
          ],
          "pie": [
           {
            "automargin": true,
            "type": "pie"
           }
          ],
          "scatter": [
           {
            "fillpattern": {
             "fillmode": "overlay",
             "size": 10,
             "solidity": 0.2
            },
            "type": "scatter"
           }
          ],
          "scatter3d": [
           {
            "line": {
             "colorbar": {
              "outlinewidth": 0,
              "ticks": ""
             }
            },
            "marker": {
             "colorbar": {
              "outlinewidth": 0,
              "ticks": ""
             }
            },
            "type": "scatter3d"
           }
          ],
          "scattercarpet": [
           {
            "marker": {
             "colorbar": {
              "outlinewidth": 0,
              "ticks": ""
             }
            },
            "type": "scattercarpet"
           }
          ],
          "scattergeo": [
           {
            "marker": {
             "colorbar": {
              "outlinewidth": 0,
              "ticks": ""
             }
            },
            "type": "scattergeo"
           }
          ],
          "scattergl": [
           {
            "marker": {
             "colorbar": {
              "outlinewidth": 0,
              "ticks": ""
             }
            },
            "type": "scattergl"
           }
          ],
          "scattermapbox": [
           {
            "marker": {
             "colorbar": {
              "outlinewidth": 0,
              "ticks": ""
             }
            },
            "type": "scattermapbox"
           }
          ],
          "scatterpolar": [
           {
            "marker": {
             "colorbar": {
              "outlinewidth": 0,
              "ticks": ""
             }
            },
            "type": "scatterpolar"
           }
          ],
          "scatterpolargl": [
           {
            "marker": {
             "colorbar": {
              "outlinewidth": 0,
              "ticks": ""
             }
            },
            "type": "scatterpolargl"
           }
          ],
          "scatterternary": [
           {
            "marker": {
             "colorbar": {
              "outlinewidth": 0,
              "ticks": ""
             }
            },
            "type": "scatterternary"
           }
          ],
          "surface": [
           {
            "colorbar": {
             "outlinewidth": 0,
             "ticks": ""
            },
            "colorscale": [
             [
              0,
              "#0d0887"
             ],
             [
              0.1111111111111111,
              "#46039f"
             ],
             [
              0.2222222222222222,
              "#7201a8"
             ],
             [
              0.3333333333333333,
              "#9c179e"
             ],
             [
              0.4444444444444444,
              "#bd3786"
             ],
             [
              0.5555555555555556,
              "#d8576b"
             ],
             [
              0.6666666666666666,
              "#ed7953"
             ],
             [
              0.7777777777777778,
              "#fb9f3a"
             ],
             [
              0.8888888888888888,
              "#fdca26"
             ],
             [
              1,
              "#f0f921"
             ]
            ],
            "type": "surface"
           }
          ],
          "table": [
           {
            "cells": {
             "fill": {
              "color": "#EBF0F8"
             },
             "line": {
              "color": "white"
             }
            },
            "header": {
             "fill": {
              "color": "#C8D4E3"
             },
             "line": {
              "color": "white"
             }
            },
            "type": "table"
           }
          ]
         },
         "layout": {
          "annotationdefaults": {
           "arrowcolor": "#2a3f5f",
           "arrowhead": 0,
           "arrowwidth": 1
          },
          "autotypenumbers": "strict",
          "coloraxis": {
           "colorbar": {
            "outlinewidth": 0,
            "ticks": ""
           }
          },
          "colorscale": {
           "diverging": [
            [
             0,
             "#8e0152"
            ],
            [
             0.1,
             "#c51b7d"
            ],
            [
             0.2,
             "#de77ae"
            ],
            [
             0.3,
             "#f1b6da"
            ],
            [
             0.4,
             "#fde0ef"
            ],
            [
             0.5,
             "#f7f7f7"
            ],
            [
             0.6,
             "#e6f5d0"
            ],
            [
             0.7,
             "#b8e186"
            ],
            [
             0.8,
             "#7fbc41"
            ],
            [
             0.9,
             "#4d9221"
            ],
            [
             1,
             "#276419"
            ]
           ],
           "sequential": [
            [
             0,
             "#0d0887"
            ],
            [
             0.1111111111111111,
             "#46039f"
            ],
            [
             0.2222222222222222,
             "#7201a8"
            ],
            [
             0.3333333333333333,
             "#9c179e"
            ],
            [
             0.4444444444444444,
             "#bd3786"
            ],
            [
             0.5555555555555556,
             "#d8576b"
            ],
            [
             0.6666666666666666,
             "#ed7953"
            ],
            [
             0.7777777777777778,
             "#fb9f3a"
            ],
            [
             0.8888888888888888,
             "#fdca26"
            ],
            [
             1,
             "#f0f921"
            ]
           ],
           "sequentialminus": [
            [
             0,
             "#0d0887"
            ],
            [
             0.1111111111111111,
             "#46039f"
            ],
            [
             0.2222222222222222,
             "#7201a8"
            ],
            [
             0.3333333333333333,
             "#9c179e"
            ],
            [
             0.4444444444444444,
             "#bd3786"
            ],
            [
             0.5555555555555556,
             "#d8576b"
            ],
            [
             0.6666666666666666,
             "#ed7953"
            ],
            [
             0.7777777777777778,
             "#fb9f3a"
            ],
            [
             0.8888888888888888,
             "#fdca26"
            ],
            [
             1,
             "#f0f921"
            ]
           ]
          },
          "colorway": [
           "#636efa",
           "#EF553B",
           "#00cc96",
           "#ab63fa",
           "#FFA15A",
           "#19d3f3",
           "#FF6692",
           "#B6E880",
           "#FF97FF",
           "#FECB52"
          ],
          "font": {
           "color": "#2a3f5f"
          },
          "geo": {
           "bgcolor": "white",
           "lakecolor": "white",
           "landcolor": "#E5ECF6",
           "showlakes": true,
           "showland": true,
           "subunitcolor": "white"
          },
          "hoverlabel": {
           "align": "left"
          },
          "hovermode": "closest",
          "mapbox": {
           "style": "light"
          },
          "paper_bgcolor": "white",
          "plot_bgcolor": "#E5ECF6",
          "polar": {
           "angularaxis": {
            "gridcolor": "white",
            "linecolor": "white",
            "ticks": ""
           },
           "bgcolor": "#E5ECF6",
           "radialaxis": {
            "gridcolor": "white",
            "linecolor": "white",
            "ticks": ""
           }
          },
          "scene": {
           "xaxis": {
            "backgroundcolor": "#E5ECF6",
            "gridcolor": "white",
            "gridwidth": 2,
            "linecolor": "white",
            "showbackground": true,
            "ticks": "",
            "zerolinecolor": "white"
           },
           "yaxis": {
            "backgroundcolor": "#E5ECF6",
            "gridcolor": "white",
            "gridwidth": 2,
            "linecolor": "white",
            "showbackground": true,
            "ticks": "",
            "zerolinecolor": "white"
           },
           "zaxis": {
            "backgroundcolor": "#E5ECF6",
            "gridcolor": "white",
            "gridwidth": 2,
            "linecolor": "white",
            "showbackground": true,
            "ticks": "",
            "zerolinecolor": "white"
           }
          },
          "shapedefaults": {
           "line": {
            "color": "#2a3f5f"
           }
          },
          "ternary": {
           "aaxis": {
            "gridcolor": "white",
            "linecolor": "white",
            "ticks": ""
           },
           "baxis": {
            "gridcolor": "white",
            "linecolor": "white",
            "ticks": ""
           },
           "bgcolor": "#E5ECF6",
           "caxis": {
            "gridcolor": "white",
            "linecolor": "white",
            "ticks": ""
           }
          },
          "title": {
           "x": 0.05
          },
          "xaxis": {
           "automargin": true,
           "gridcolor": "white",
           "linecolor": "white",
           "ticks": "",
           "title": {
            "standoff": 15
           },
           "zerolinecolor": "white",
           "zerolinewidth": 2
          },
          "yaxis": {
           "automargin": true,
           "gridcolor": "white",
           "linecolor": "white",
           "ticks": "",
           "title": {
            "standoff": 15
           },
           "zerolinecolor": "white",
           "zerolinewidth": 2
          }
         }
        },
        "title": {
         "text": "Global Population Trend (Interactive)"
        },
        "xaxis": {
         "anchor": "y",
         "domain": [
          0,
          1
         ],
         "title": {
          "text": "Year"
         }
        },
        "yaxis": {
         "anchor": "x",
         "domain": [
          0,
          1
         ],
         "title": {
          "text": "Population"
         }
        }
       }
      }
     },
     "metadata": {},
     "output_type": "display_data"
    }
   ],
   "source": [
    "import plotly.express as px\n",
    "\n",
    "fig = px.line(global_pop, x=\"Year\", y=\"Population\", title=\"Global Population Trend (Interactive)\")\n",
    "fig.update_traces(line=dict(color='royalblue'))\n",
    "fig.show()\n"
   ]
  },
  {
   "cell_type": "markdown",
   "id": "0f96cec7",
   "metadata": {},
   "source": [
    "## Step 8: Insights & Observations\n",
    "\n",
    "- Asia and Africa are dominant growth regions.\n",
    "- High-income regions show signs of population plateauing.\n",
    "- Growth patterns are strongly tied to development and resource access.\n",
    "\n",
    "This notebook lays the foundation for deeper analysis in future modules of **WorldGraphIQ**.\n"
   ]
  },
  {
   "attachments": {
    "image.png": {
     "image/png": "[encoded data removed]"
    }
   },
   "cell_type": "markdown",
   "id": "7498957e",
   "metadata": {},
   "source": [
    "## Global Population Over Time (1960–2022)\n",
    "\n",
    "Global population has grown exponentially from under 3 billion to over 8 billion. This surge reflects post-war improvements in healthcare, education, and living standards. After 2010, growth begins to taper, marking the start of demographic transitions in several regions.\n",
    "\n",
    "Key takeaway: Worldwide demographic expansion is slowing — aging and reduced fertility are reshaping future population curves.\n",
    "\n",
    "\n",
    "![image.png](attachment:image.png)\n",
    "---"
   ]
  },
  {
   "cell_type": "markdown",
   "id": "3315de7b",
   "metadata": {},
   "source": [
    "\n",
    "## Global Population Leaders: India, China, and the U.S.\n",
    "\n",
    "India, China, and the United States collectively represent over 40% of the world’s population. Their demographic weight shapes global economics, migration, and development priorities.\n",
    "\n",
    "<img src=\"https://thenationalbulletin.in/assets/media/post/52213612_images_-_2022-08-27T232852.286.jpeg\" alt=\"USA and China flags on world map\" width=\"600\"/>\n",
    "\n",
    "---"
   ]
  },
  {
   "cell_type": "markdown",
   "id": "8341ccc1",
   "metadata": {},
   "source": [
    "## Population Distribution by Metadata Groups\n",
    "\n",
    "Income-level and demographic classifications reveal stark contrasts in population spread. Lower-middle and upper-middle income groups dominate, while developed nations contribute less to total count.\n",
    "\n",
    "Key takeaway: Demographic dividends favor developing regions with youthful populations — creating both opportunity and pressure for inclusive growth.\n",
    "\n",
    "<img src=\"https://www.visualcapitalist.com/wp-content/uploads/2024/03/PopGrowth_Share-1000x600.jpg\" alt=\"World split into regions with the same population as the United States\" width=\"600\"/>\n",
    "\n"
   ]
  },
  {
   "cell_type": "markdown",
   "id": "2bf45dab",
   "metadata": {},
   "source": [
    "## Annual Growth Leaders and Laggards\n",
    "\n",
    "High-growth countries (e.g., UAE, Qatar) reflect migration and urban expansion. In contrast, Eastern Europe faces demographic shrinkage from emigration and aging.\n",
    "\n",
    "Key takeaway: Rapid growth doesn’t always mean scale — and population decline demands targeted policy response to avoid long-term socio-economic strain.\n"
   ]
  },
  {
   "cell_type": "markdown",
   "id": "a2fd0aba",
   "metadata": {},
   "source": [
    "## PopScope: Macro Trends with Micro Meaning\n",
    "\n",
    "This notebook bridges global trends with granular country-level narratives. Enriching analysis with region and development group metadata unlocks meaningful insights for policy and planning.\n",
    "\n",
    "Key takeaway: PopScope transforms raw data into actionable understanding — setting the stage for modeling, forecasting, and decision-making.\n"
   ]
  },
  {
   "cell_type": "markdown",
   "id": "b878691d",
   "metadata": {},
   "source": [
    "## Author Information\n",
    "\n",
    "**Name**: Nitish M.  \n",
    "**Role**: Undergraduate Student – Data Science  \n"
   ]
  }
 ],
 "metadata": {
  "kernelspec": {
   "display_name": "base",
   "language": "python",
   "name": "python3"
  },
  "language_info": {
   "codemirror_mode": {
    "name": "ipython",
    "version": 3
   },
   "file_extension": ".py",
   "mimetype": "text/x-python",
   "name": "python",
   "nbconvert_exporter": "python",
   "pygments_lexer": "ipython3",
   "version": "3.12.4"
  }
 },
 "nbformat": 4,
 "nbformat_minor": 5
}
